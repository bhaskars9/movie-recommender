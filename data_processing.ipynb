{
 "cells": [
  {
   "cell_type": "markdown",
   "id": "22f2aa8a",
   "metadata": {},
   "source": [
    "# DONT RUN THIS FILE"
   ]
  },
  {
   "cell_type": "code",
   "execution_count": null,
   "id": "f155ad08",
   "metadata": {},
   "outputs": [],
   "source": [
    "import pandas as pd\n",
    "import os\n",
    "import regex as re\n",
    "import nltk\n",
    "from nltk.corpus import stopwords\n",
    "import string\n",
    "# nltk.download('stopwords')"
   ]
  },
  {
   "cell_type": "code",
   "execution_count": null,
   "id": "c02f5419",
   "metadata": {},
   "outputs": [],
   "source": [
    "stop_words = stopwords.words()\n",
    "# custom_stop_words = []\n",
    "# stop_words.extend(custom_stop_words)\n",
    "\n",
    "def text_filter(text):\n",
    "    text = re.sub(r'(<br\\/>)', ' ', text)\n",
    "    text = re.sub(r'[^\\w\\s]','', text.lower())\n",
    "    filteredWords = [word for word in nltk.word_tokenize(text) if word not in stop_words]\n",
    "    return re.sub(r\"\\b\\d+\\b\",\"\",(\" \".join(filteredWords)))"
   ]
  },
  {
   "cell_type": "code",
   "execution_count": null,
   "id": "6955e1e2",
   "metadata": {},
   "outputs": [],
   "source": [
    "# dataset directory\n",
    "dir2 = 'raw/'\n",
    "# review_files contains all the paths\n",
    "raw_files = glob.glob(dir2+'*.csv')\n",
    "len(raw_files)"
   ]
  },
  {
   "cell_type": "code",
   "execution_count": null,
   "id": "6768d921",
   "metadata": {
    "scrolled": false
   },
   "outputs": [],
   "source": [
    "for i,filepath in enumerate(raw_files):\n",
    "    tempdf = pd.read_csv(filepath)\n",
    "    tempdf['review'] = tempdf.review.apply(textfilter)\n",
    "    movie_name = os.path.basename(filepath)[:-4]\n",
    "    tempdf.to_csv('processed/'+movie_name+'.csv',index = False)\n",
    "    print(i,movie_name,'[done]')"
   ]
  },
  {
   "cell_type": "code",
   "execution_count": null,
   "id": "0fa10041",
   "metadata": {},
   "outputs": [],
   "source": [
    "# dataset directory\n",
    "dir = 'processed/'\n",
    "# review_files contains paths to all csv files\n",
    "review_files = glob.glob(dir+'*.csv')"
   ]
  },
  {
   "cell_type": "code",
   "execution_count": null,
   "id": "2aea8b45",
   "metadata": {},
   "outputs": [],
   "source": [
    "df = pd.DataFrame({\"username\": [], \"review\": [], \"movie\": [], 'rating': []})\n",
    "\n",
    "for filepath in review_files[:100]:\n",
    "    tempdf = pd.read_csv(filepath)\n",
    "    tempdf['movie'] = os.path.basename(filepath)[:-9]\n",
    "    df = pd.concat([df, tempdf[['username','review','movie','rating']]], axis = 0,ignore_index = True)"
   ]
  },
  {
   "cell_type": "code",
   "execution_count": null,
   "id": "57704e72",
   "metadata": {},
   "outputs": [],
   "source": [
    "df.to_csv('100_processed0.csv',index = False)"
   ]
  }
 ],
 "metadata": {
  "kernelspec": {
   "display_name": "Python 3",
   "language": "python",
   "name": "python3"
  },
  "language_info": {
   "codemirror_mode": {
    "name": "ipython",
    "version": 3
   },
   "file_extension": ".py",
   "mimetype": "text/x-python",
   "name": "python",
   "nbconvert_exporter": "python",
   "pygments_lexer": "ipython3",
   "version": "3.8.8"
  }
 },
 "nbformat": 4,
 "nbformat_minor": 5
}
