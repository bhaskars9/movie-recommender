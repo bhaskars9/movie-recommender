{
 "cells": [
  {
   "cell_type": "code",
   "execution_count": 1,
   "id": "81b9961e",
   "metadata": {},
   "outputs": [],
   "source": [
    "import pandas as pd\n",
    "import numpy as np\n",
    "import random\n",
    "\n",
    "from sklearn.feature_extraction.text import CountVectorizer, TfidfTransformer, TfidfVectorizer\n",
    "from sklearn.metrics.pairwise import cosine_similarity, linear_kernel\n",
    "from scipy import sparse"
   ]
  },
  {
   "cell_type": "code",
   "execution_count": 2,
   "id": "fbe58793",
   "metadata": {},
   "outputs": [
    {
     "data": {
      "text/html": [
       "<div>\n",
       "<style scoped>\n",
       "    .dataframe tbody tr th:only-of-type {\n",
       "        vertical-align: middle;\n",
       "    }\n",
       "\n",
       "    .dataframe tbody tr th {\n",
       "        vertical-align: top;\n",
       "    }\n",
       "\n",
       "    .dataframe thead th {\n",
       "        text-align: right;\n",
       "    }\n",
       "</style>\n",
       "<table border=\"1\" class=\"dataframe\">\n",
       "  <thead>\n",
       "    <tr style=\"text-align: right;\">\n",
       "      <th></th>\n",
       "      <th>username</th>\n",
       "      <th>review</th>\n",
       "      <th>movie</th>\n",
       "      <th>rating</th>\n",
       "    </tr>\n",
       "  </thead>\n",
       "  <tbody>\n",
       "    <tr>\n",
       "      <th>0</th>\n",
       "      <td>Imme-van-Gorp</td>\n",
       "      <td>movie full suspense makes guess real happens w...</td>\n",
       "      <td>10 Cloverfield Lane</td>\n",
       "      <td>7</td>\n",
       "    </tr>\n",
       "    <tr>\n",
       "      <th>1</th>\n",
       "      <td>sonofocelot-1</td>\n",
       "      <td>leave review fairly concise film originally ca...</td>\n",
       "      <td>10 Cloverfield Lane</td>\n",
       "      <td>5</td>\n",
       "    </tr>\n",
       "    <tr>\n",
       "      <th>2</th>\n",
       "      <td>mhodaee</td>\n",
       "      <td>give  credit owe original writers fascinating ...</td>\n",
       "      <td>10 Cloverfield Lane</td>\n",
       "      <td>5</td>\n",
       "    </tr>\n",
       "    <tr>\n",
       "      <th>3</th>\n",
       "      <td>fil-nik09</td>\n",
       "      <td>first must say expecting something different c...</td>\n",
       "      <td>10 Cloverfield Lane</td>\n",
       "      <td>5</td>\n",
       "    </tr>\n",
       "    <tr>\n",
       "      <th>4</th>\n",
       "      <td>DVR_Brale</td>\n",
       "      <td>ive always loved movies strong atmosphere thre...</td>\n",
       "      <td>10 Cloverfield Lane</td>\n",
       "      <td>7</td>\n",
       "    </tr>\n",
       "  </tbody>\n",
       "</table>\n",
       "</div>"
      ],
      "text/plain": [
       "        username                                             review  \\\n",
       "0  Imme-van-Gorp  movie full suspense makes guess real happens w...   \n",
       "1  sonofocelot-1  leave review fairly concise film originally ca...   \n",
       "2        mhodaee  give  credit owe original writers fascinating ...   \n",
       "3      fil-nik09  first must say expecting something different c...   \n",
       "4      DVR_Brale  ive always loved movies strong atmosphere thre...   \n",
       "\n",
       "                 movie rating  \n",
       "0  10 Cloverfield Lane      7  \n",
       "1  10 Cloverfield Lane      5  \n",
       "2  10 Cloverfield Lane      5  \n",
       "3  10 Cloverfield Lane      5  \n",
       "4  10 Cloverfield Lane      7  "
      ]
     },
     "execution_count": 2,
     "metadata": {},
     "output_type": "execute_result"
    }
   ],
   "source": [
    "df = pd.read_csv('../100_processed0.csv')\n",
    "df.head()"
   ]
  },
  {
   "cell_type": "markdown",
   "id": "a6068ead",
   "metadata": {},
   "source": [
    "## remove null records"
   ]
  },
  {
   "cell_type": "code",
   "execution_count": 3,
   "id": "2e1382ef",
   "metadata": {},
   "outputs": [
    {
     "name": "stdout",
     "output_type": "stream",
     "text": [
      "<class 'pandas.core.frame.DataFrame'>\n",
      "RangeIndex: 106011 entries, 0 to 106010\n",
      "Data columns (total 4 columns):\n",
      " #   Column    Non-Null Count   Dtype \n",
      "---  ------    --------------   ----- \n",
      " 0   username  106011 non-null  object\n",
      " 1   review    106008 non-null  object\n",
      " 2   movie     106011 non-null  object\n",
      " 3   rating    106011 non-null  object\n",
      "dtypes: object(4)\n",
      "memory usage: 3.2+ MB\n"
     ]
    }
   ],
   "source": [
    "df.info()"
   ]
  },
  {
   "cell_type": "code",
   "execution_count": 4,
   "id": "52f34812",
   "metadata": {},
   "outputs": [
    {
     "name": "stdout",
     "output_type": "stream",
     "text": [
      "<class 'pandas.core.frame.DataFrame'>\n",
      "Int64Index: 96108 entries, 0 to 96110\n",
      "Data columns (total 4 columns):\n",
      " #   Column    Non-Null Count  Dtype \n",
      "---  ------    --------------  ----- \n",
      " 0   username  96108 non-null  object\n",
      " 1   review    96108 non-null  object\n",
      " 2   movie     96108 non-null  object\n",
      " 3   rating    96108 non-null  int32 \n",
      "dtypes: int32(1), object(3)\n",
      "memory usage: 3.3+ MB\n"
     ]
    }
   ],
   "source": [
    "df = df.drop(df[df.rating == 'Null'].index).reset_index(drop = True)\n",
    "df.rating = df['rating'].astype(int)\n",
    "df = df.dropna()\n",
    "df.info()"
   ]
  },
  {
   "cell_type": "markdown",
   "id": "4fd4aadd",
   "metadata": {},
   "source": [
    "## TF-IDF Vector Matrix"
   ]
  },
  {
   "cell_type": "code",
   "execution_count": 5,
   "id": "8a0ecbe8",
   "metadata": {},
   "outputs": [
    {
     "name": "stdout",
     "output_type": "stream",
     "text": [
      "Wall time: 7.42 s\n"
     ]
    },
    {
     "data": {
      "text/plain": [
       "<96108x2000 sparse matrix of type '<class 'numpy.float64'>'\n",
       "\twith 5750361 stored elements in Compressed Sparse Row format>"
      ]
     },
     "execution_count": 5,
     "metadata": {},
     "output_type": "execute_result"
    }
   ],
   "source": [
    "%%time\n",
    "tfidf_vect = TfidfVectorizer(max_features = 2000)\n",
    "tfidf = tfidf_vect.fit_transform(df.review)\n",
    "tfidf "
   ]
  },
  {
   "cell_type": "markdown",
   "id": "023e31bd",
   "metadata": {},
   "source": [
    "## similar users function"
   ]
  },
  {
   "cell_type": "code",
   "execution_count": 127,
   "id": "79617a03",
   "metadata": {},
   "outputs": [],
   "source": [
    "def similar_users(tgt_usr,tgt_mov,th = 0.5):\n",
    "    \"\"\"\n",
    "    Function to find similar users from a given movie rating of a user,\n",
    "    returns upto 10 similar users\n",
    "    \"\"\"\n",
    "    # get review id\n",
    "    review_id = df[(df.username == tgt_usr) & (df.movie == tgt_mov)].index[0]\n",
    "    # calculate cosine similarity between that review and all other\n",
    "    cos_sim = linear_kernel(tfidf[review_id:review_id+1], tfidf).flatten()\n",
    "    # Indices of Similar (Users) reviews\n",
    "    indexes = cos_sim.argsort()[::-1] \n",
    "    #print('Similar Users of [',tgt_usr,'] with ',th,' threshold:')\n",
    "    sim_users = []\n",
    "    for i in indexes[1:]:\n",
    "        if(cos_sim[i]>th):\n",
    "            user = df.iloc[i].tolist()[0]\n",
    "#             print(user,'-----------',round(cos_sim[i]*100,2),'%')\n",
    "            sim_users.append(user)\n",
    "    if len(sim_users) > 0:\n",
    "        return [user for user in sim_users if user!=tgt_usr][:10]\n",
    "    else:\n",
    "        #print(' None')\n",
    "        return similar_users(tgt_usr,tgt_mov,th=round(th-0.05,2))"
   ]
  },
  {
   "cell_type": "code",
   "execution_count": 128,
   "id": "028b06f0",
   "metadata": {},
   "outputs": [],
   "source": [
    "def similar_users2(tgt_usr,tgt_mov):\n",
    "    \"\"\"\n",
    "    Function to find best 15 similar users irrespective of threshold\n",
    "    \"\"\"\n",
    "    review_id = df[(df.username == tgt_usr) & (df.movie == tgt_mov)].index[0]\n",
    "    cos_sim = linear_kernel(tfidf[review_id:review_id+1], tfidf).flatten()\n",
    "    sim_userids = cos_sim.argsort()[:-16:-2]\n",
    "\n",
    "    sim_users = []\n",
    "    for i in sim_userids:\n",
    "        #print(reverse_user_dict[i])\n",
    "        sim_users.append(df.iloc[i].tolist()[0])\n",
    "#         print(df.iloc[i].tolist()[0],'-----------',round(cos_sim[i]*100,2),'%')\n",
    "        \n",
    "    return sim_users[1:]"
   ]
  },
  {
   "cell_type": "code",
   "execution_count": 45,
   "id": "9c13221e",
   "metadata": {
    "scrolled": true
   },
   "outputs": [
    {
     "data": {
      "text/html": [
       "<div>\n",
       "<style scoped>\n",
       "    .dataframe tbody tr th:only-of-type {\n",
       "        vertical-align: middle;\n",
       "    }\n",
       "\n",
       "    .dataframe tbody tr th {\n",
       "        vertical-align: top;\n",
       "    }\n",
       "\n",
       "    .dataframe thead th {\n",
       "        text-align: right;\n",
       "    }\n",
       "</style>\n",
       "<table border=\"1\" class=\"dataframe\">\n",
       "  <thead>\n",
       "    <tr style=\"text-align: right;\">\n",
       "      <th></th>\n",
       "      <th>username</th>\n",
       "      <th>review</th>\n",
       "      <th>movie</th>\n",
       "      <th>rating</th>\n",
       "    </tr>\n",
       "  </thead>\n",
       "  <tbody>\n",
       "    <tr>\n",
       "      <th>0</th>\n",
       "      <td>Imme-van-Gorp</td>\n",
       "      <td>movie full suspense makes guess real happens w...</td>\n",
       "      <td>10 Cloverfield Lane</td>\n",
       "      <td>7</td>\n",
       "    </tr>\n",
       "    <tr>\n",
       "      <th>1</th>\n",
       "      <td>sonofocelot-1</td>\n",
       "      <td>leave review fairly concise film originally ca...</td>\n",
       "      <td>10 Cloverfield Lane</td>\n",
       "      <td>5</td>\n",
       "    </tr>\n",
       "    <tr>\n",
       "      <th>2</th>\n",
       "      <td>mhodaee</td>\n",
       "      <td>give  credit owe original writers fascinating ...</td>\n",
       "      <td>10 Cloverfield Lane</td>\n",
       "      <td>5</td>\n",
       "    </tr>\n",
       "    <tr>\n",
       "      <th>3</th>\n",
       "      <td>fil-nik09</td>\n",
       "      <td>first must say expecting something different c...</td>\n",
       "      <td>10 Cloverfield Lane</td>\n",
       "      <td>5</td>\n",
       "    </tr>\n",
       "    <tr>\n",
       "      <th>4</th>\n",
       "      <td>DVR_Brale</td>\n",
       "      <td>ive always loved movies strong atmosphere thre...</td>\n",
       "      <td>10 Cloverfield Lane</td>\n",
       "      <td>7</td>\n",
       "    </tr>\n",
       "  </tbody>\n",
       "</table>\n",
       "</div>"
      ],
      "text/plain": [
       "        username                                             review  \\\n",
       "0  Imme-van-Gorp  movie full suspense makes guess real happens w...   \n",
       "1  sonofocelot-1  leave review fairly concise film originally ca...   \n",
       "2        mhodaee  give  credit owe original writers fascinating ...   \n",
       "3      fil-nik09  first must say expecting something different c...   \n",
       "4      DVR_Brale  ive always loved movies strong atmosphere thre...   \n",
       "\n",
       "                 movie  rating  \n",
       "0  10 Cloverfield Lane       7  \n",
       "1  10 Cloverfield Lane       5  \n",
       "2  10 Cloverfield Lane       5  \n",
       "3  10 Cloverfield Lane       5  \n",
       "4  10 Cloverfield Lane       7  "
      ]
     },
     "execution_count": 45,
     "metadata": {},
     "output_type": "execute_result"
    }
   ],
   "source": [
    "df.head()"
   ]
  },
  {
   "cell_type": "code",
   "execution_count": 46,
   "id": "06adf1b3",
   "metadata": {},
   "outputs": [
    {
     "name": "stdout",
     "output_type": "stream",
     "text": [
      "andrisca ----------- 34.31 %\n",
      "mchaney-72388 ----------- 33.63 %\n",
      "neisesjason ----------- 33.4 %\n",
      "DKosty123 ----------- 33.03 %\n",
      "BigYeehaw ----------- 32.24 %\n",
      "shawnman-56268 ----------- 32.02 %\n"
     ]
    },
    {
     "data": {
      "text/plain": [
       "['andrisca',\n",
       " 'mchaney-72388',\n",
       " 'neisesjason',\n",
       " 'DKosty123',\n",
       " 'BigYeehaw',\n",
       " 'shawnman-56268']"
      ]
     },
     "execution_count": 46,
     "metadata": {},
     "output_type": "execute_result"
    }
   ],
   "source": [
    "similar_users('Imme-van-Gorp','10 Cloverfield Lane')"
   ]
  },
  {
   "cell_type": "code",
   "execution_count": 122,
   "id": "c1721273",
   "metadata": {
    "scrolled": false
   },
   "outputs": [
    {
     "name": "stdout",
     "output_type": "stream",
     "text": [
      "Imme-van-Gorp ----------- 100.0 %\n",
      "mchaney-72388 ----------- 33.63 %\n",
      "DKosty123 ----------- 33.03 %\n",
      "shawnman-56268 ----------- 32.02 %\n",
      "BenMilliron ----------- 28.3 %\n",
      "margaridamgrusso ----------- 28.07 %\n",
      "doomsday-99 ----------- 27.9 %\n",
      "bobdobalina-18772 ----------- 27.7 %\n"
     ]
    },
    {
     "data": {
      "text/plain": [
       "['mchaney-72388',\n",
       " 'DKosty123',\n",
       " 'shawnman-56268',\n",
       " 'BenMilliron',\n",
       " 'margaridamgrusso',\n",
       " 'doomsday-99',\n",
       " 'bobdobalina-18772']"
      ]
     },
     "execution_count": 122,
     "metadata": {},
     "output_type": "execute_result"
    }
   ],
   "source": [
    "similar_users2('Imme-van-Gorp','10 Cloverfield Lane')"
   ]
  },
  {
   "cell_type": "code",
   "execution_count": 123,
   "id": "59586816",
   "metadata": {},
   "outputs": [
    {
     "name": "stdout",
     "output_type": "stream",
     "text": [
      "quinnquintillus ----------- 48.02 %\n",
      "TheFirstExecutioner ----------- 47.84 %\n",
      "brando647 ----------- 47.13 %\n",
      "Johnny-the-Film-Sentinel-2187 ----------- 46.95 %\n",
      "schroeder-gustavo ----------- 46.75 %\n",
      "sikandarv-60898 ----------- 45.32 %\n",
      "talarisw ----------- 45.28 %\n",
      "siksokori ----------- 45.18 %\n"
     ]
    },
    {
     "data": {
      "text/plain": [
       "['quinnquintillus',\n",
       " 'TheFirstExecutioner',\n",
       " 'brando647',\n",
       " 'Johnny-the-Film-Sentinel-2187',\n",
       " 'schroeder-gustavo',\n",
       " 'sikandarv-60898',\n",
       " 'talarisw',\n",
       " 'siksokori']"
      ]
     },
     "execution_count": 123,
     "metadata": {},
     "output_type": "execute_result"
    }
   ],
   "source": [
    "similar_users('ssmp_btc','Batman v Superman_ Dawn of Justice')"
   ]
  },
  {
   "cell_type": "code",
   "execution_count": 124,
   "id": "fb9a15da",
   "metadata": {},
   "outputs": [
    {
     "name": "stdout",
     "output_type": "stream",
     "text": [
      "dimitri-dhaese ----------- 100.0 %\n",
      "TheFirstExecutioner ----------- 47.84 %\n",
      "Johnny-the-Film-Sentinel-2187 ----------- 46.95 %\n",
      "sikandarv-60898 ----------- 45.32 %\n",
      "siksokori ----------- 45.18 %\n",
      "moriander ----------- 44.31 %\n",
      "asrivarde ----------- 43.02 %\n",
      "anjali-mohindra ----------- 42.9 %\n"
     ]
    },
    {
     "data": {
      "text/plain": [
       "['TheFirstExecutioner',\n",
       " 'Johnny-the-Film-Sentinel-2187',\n",
       " 'sikandarv-60898',\n",
       " 'siksokori',\n",
       " 'moriander',\n",
       " 'asrivarde',\n",
       " 'anjali-mohindra']"
      ]
     },
     "execution_count": 124,
     "metadata": {},
     "output_type": "execute_result"
    }
   ],
   "source": [
    "similar_users2('ssmp_btc','Batman v Superman_ Dawn of Justice')"
   ]
  },
  {
   "cell_type": "code",
   "execution_count": 106,
   "id": "96201a4e",
   "metadata": {},
   "outputs": [
    {
     "data": {
      "text/html": [
       "<div>\n",
       "<style scoped>\n",
       "    .dataframe tbody tr th:only-of-type {\n",
       "        vertical-align: middle;\n",
       "    }\n",
       "\n",
       "    .dataframe tbody tr th {\n",
       "        vertical-align: top;\n",
       "    }\n",
       "\n",
       "    .dataframe thead th {\n",
       "        text-align: right;\n",
       "    }\n",
       "</style>\n",
       "<table border=\"1\" class=\"dataframe\">\n",
       "  <thead>\n",
       "    <tr style=\"text-align: right;\">\n",
       "      <th></th>\n",
       "      <th>username</th>\n",
       "      <th>review</th>\n",
       "      <th>movie</th>\n",
       "      <th>rating</th>\n",
       "    </tr>\n",
       "  </thead>\n",
       "  <tbody>\n",
       "    <tr>\n",
       "      <th>96106</th>\n",
       "      <td>ssmp_btc</td>\n",
       "      <td>finally childhood dream came true matter much ...</td>\n",
       "      <td>Batman v Superman_ Dawn of Justice</td>\n",
       "      <td>8</td>\n",
       "    </tr>\n",
       "  </tbody>\n",
       "</table>\n",
       "</div>"
      ],
      "text/plain": [
       "       username                                             review  \\\n",
       "96106  ssmp_btc  finally childhood dream came true matter much ...   \n",
       "\n",
       "                                    movie  rating  \n",
       "96106  Batman v Superman_ Dawn of Justice       8  "
      ]
     },
     "execution_count": 106,
     "metadata": {},
     "output_type": "execute_result"
    }
   ],
   "source": [
    "r1 = df[df.username == 'ssmp_btc']\n",
    "r1"
   ]
  },
  {
   "cell_type": "code",
   "execution_count": 107,
   "id": "559a2980",
   "metadata": {},
   "outputs": [
    {
     "data": {
      "text/plain": [
       "'finally childhood dream came true matter much love spider x animated series dc superheros best past time cartoon seriesthe quality respective animated series always kept excited live action adaptation addition nostalgic memories dark knight trilogy involvement christopher nolan made hopeful justice league zack snider ruined meno matter critics told like steel bvs well expectationhowever say bad fantastic four definitely good avenger age ultron mediocre successor brilliant avenger movie batman superman scene either fighting interaction give goosebumps afleck gal gadot looked perfect roles much likable characterbut superman story arc meh lois lane supermanlex luther believable amy adams character lois lane times either smarter batman dumber loboshe acted painfully bad henry cavil present lex luther acting like sheldon cooper however may go character change next movie 1st hour like initial introduction every stage video game casual viewers wondering whats happening important plot lines lazily written explanationi spoil details holly hunters character whole story arc related pointless simply confuse casual viewers however thing improved second half alfredbruce wayne chemistry challenge michael caine christian bale jeremy irons great fight sequence batman match marvels daredevil tv series dont mind killings batman older already seen hence believable overall happy wonder womanbatman worked superman story arc real disappointment chemistry amy adams henry cavill challenge christian grey anastesia steel robert pattinson kirsten stewert last happy zack snyder part stand alone dc movieafter poor mans michael bay expectation high hence feel cheated nevertheless movie time watchable ranked forgettable iron sequels'"
      ]
     },
     "execution_count": 107,
     "metadata": {},
     "output_type": "execute_result"
    }
   ],
   "source": [
    "r1.at[r1.index[0],'review']"
   ]
  },
  {
   "cell_type": "code",
   "execution_count": 108,
   "id": "730a8e76",
   "metadata": {},
   "outputs": [
    {
     "data": {
      "text/html": [
       "<div>\n",
       "<style scoped>\n",
       "    .dataframe tbody tr th:only-of-type {\n",
       "        vertical-align: middle;\n",
       "    }\n",
       "\n",
       "    .dataframe tbody tr th {\n",
       "        vertical-align: top;\n",
       "    }\n",
       "\n",
       "    .dataframe thead th {\n",
       "        text-align: right;\n",
       "    }\n",
       "</style>\n",
       "<table border=\"1\" class=\"dataframe\">\n",
       "  <thead>\n",
       "    <tr style=\"text-align: right;\">\n",
       "      <th></th>\n",
       "      <th>username</th>\n",
       "      <th>review</th>\n",
       "      <th>movie</th>\n",
       "      <th>rating</th>\n",
       "    </tr>\n",
       "  </thead>\n",
       "  <tbody>\n",
       "    <tr>\n",
       "      <th>96109</th>\n",
       "      <td>dimitri-dhaese</td>\n",
       "      <td>god wanted love movie needed love movie hope g...</td>\n",
       "      <td>Batman v Superman_ Dawn of Justice</td>\n",
       "      <td>7</td>\n",
       "    </tr>\n",
       "  </tbody>\n",
       "</table>\n",
       "</div>"
      ],
      "text/plain": [
       "             username                                             review  \\\n",
       "96109  dimitri-dhaese  god wanted love movie needed love movie hope g...   \n",
       "\n",
       "                                    movie  rating  \n",
       "96109  Batman v Superman_ Dawn of Justice       7  "
      ]
     },
     "execution_count": 108,
     "metadata": {},
     "output_type": "execute_result"
    }
   ],
   "source": [
    "r2 = df[df.username == 'dimitri-dhaese']\n",
    "r2"
   ]
  },
  {
   "cell_type": "code",
   "execution_count": 111,
   "id": "b1b016cd",
   "metadata": {
    "scrolled": true
   },
   "outputs": [
    {
     "data": {
      "text/plain": [
       "'god wanted love movie needed love movie hope gets better second viewing dont think mess big incoherent mess theres really good things going nothing save movie affleck batman right money jeremy irons alfred theyre working script couldnt save tree gal gadots wonder woman looks part setup standalone movie pretty obvious script mess theres explanation things heroes theres real macguffin future justice league movie carrot movie dumb donkey chasing obvious zack snyder doesnt know superman look ive superman collector  years trust love character love movie whatsoever dont understand motivation film think reason hes going batman clark well superman makes big hypocrite add time hes saving people expression similar daughters tell clean room didnt like superman movie love loïs clark stuff course special effects charts needed much movie tries way much fails miserably placeholder movie real icing justice league movie coming  years dont know still edit second viewing saw second time today liked time isnt coherence understand bit better clearly love batman wonder woman stuff even time around still serious still dont like lex luthor way hes portrayed give dc benefit doubt ive changed vote  '"
      ]
     },
     "execution_count": 111,
     "metadata": {},
     "output_type": "execute_result"
    }
   ],
   "source": [
    "r2.at[r2.index[0],'review']"
   ]
  },
  {
   "cell_type": "code",
   "execution_count": null,
   "id": "1dab33a6",
   "metadata": {},
   "outputs": [],
   "source": []
  },
  {
   "cell_type": "markdown",
   "id": "f0dd9f83",
   "metadata": {},
   "source": [
    "## user_movie matrix"
   ]
  },
  {
   "cell_type": "code",
   "execution_count": 115,
   "id": "2a9db40b",
   "metadata": {},
   "outputs": [
    {
     "name": "stdout",
     "output_type": "stream",
     "text": [
      "Wall time: 6min 21s\n"
     ]
    },
    {
     "data": {
      "text/html": [
       "<div>\n",
       "<style scoped>\n",
       "    .dataframe tbody tr th:only-of-type {\n",
       "        vertical-align: middle;\n",
       "    }\n",
       "\n",
       "    .dataframe tbody tr th {\n",
       "        vertical-align: top;\n",
       "    }\n",
       "\n",
       "    .dataframe thead th {\n",
       "        text-align: right;\n",
       "    }\n",
       "</style>\n",
       "<table border=\"1\" class=\"dataframe\">\n",
       "  <thead>\n",
       "    <tr style=\"text-align: right;\">\n",
       "      <th></th>\n",
       "      <th>10 Cloverfield Lane</th>\n",
       "      <th>10 Things I Hate About You</th>\n",
       "      <th>12 Angry Men</th>\n",
       "      <th>12 Monkeys</th>\n",
       "      <th>12 Strong</th>\n",
       "      <th>12 Years a Slave</th>\n",
       "      <th>127 Hours</th>\n",
       "      <th>13 Hours</th>\n",
       "      <th>1408</th>\n",
       "      <th>1917</th>\n",
       "      <th>...</th>\n",
       "      <th>Back to the Future</th>\n",
       "      <th>Back to the Future Part II</th>\n",
       "      <th>Back to the Future Part III</th>\n",
       "      <th>Bad Teacher</th>\n",
       "      <th>Balls of Fury</th>\n",
       "      <th>Barry Lyndon</th>\n",
       "      <th>BASEketball</th>\n",
       "      <th>Batman Begins</th>\n",
       "      <th>Batman Returns</th>\n",
       "      <th>Batman v Superman_ Dawn of Justice</th>\n",
       "    </tr>\n",
       "    <tr>\n",
       "      <th>user</th>\n",
       "      <th></th>\n",
       "      <th></th>\n",
       "      <th></th>\n",
       "      <th></th>\n",
       "      <th></th>\n",
       "      <th></th>\n",
       "      <th></th>\n",
       "      <th></th>\n",
       "      <th></th>\n",
       "      <th></th>\n",
       "      <th></th>\n",
       "      <th></th>\n",
       "      <th></th>\n",
       "      <th></th>\n",
       "      <th></th>\n",
       "      <th></th>\n",
       "      <th></th>\n",
       "      <th></th>\n",
       "      <th></th>\n",
       "      <th></th>\n",
       "      <th></th>\n",
       "    </tr>\n",
       "  </thead>\n",
       "  <tbody>\n",
       "    <tr>\n",
       "      <th>Imme-van-Gorp</th>\n",
       "      <td>7</td>\n",
       "      <td>None</td>\n",
       "      <td>None</td>\n",
       "      <td>None</td>\n",
       "      <td>None</td>\n",
       "      <td>None</td>\n",
       "      <td>None</td>\n",
       "      <td>None</td>\n",
       "      <td>None</td>\n",
       "      <td>None</td>\n",
       "      <td>...</td>\n",
       "      <td>None</td>\n",
       "      <td>None</td>\n",
       "      <td>None</td>\n",
       "      <td>None</td>\n",
       "      <td>None</td>\n",
       "      <td>None</td>\n",
       "      <td>None</td>\n",
       "      <td>None</td>\n",
       "      <td>None</td>\n",
       "      <td>None</td>\n",
       "    </tr>\n",
       "    <tr>\n",
       "      <th>sonofocelot-1</th>\n",
       "      <td>5</td>\n",
       "      <td>None</td>\n",
       "      <td>None</td>\n",
       "      <td>None</td>\n",
       "      <td>None</td>\n",
       "      <td>None</td>\n",
       "      <td>None</td>\n",
       "      <td>None</td>\n",
       "      <td>None</td>\n",
       "      <td>None</td>\n",
       "      <td>...</td>\n",
       "      <td>None</td>\n",
       "      <td>None</td>\n",
       "      <td>None</td>\n",
       "      <td>None</td>\n",
       "      <td>None</td>\n",
       "      <td>None</td>\n",
       "      <td>None</td>\n",
       "      <td>None</td>\n",
       "      <td>None</td>\n",
       "      <td>None</td>\n",
       "    </tr>\n",
       "    <tr>\n",
       "      <th>mhodaee</th>\n",
       "      <td>5</td>\n",
       "      <td>None</td>\n",
       "      <td>None</td>\n",
       "      <td>None</td>\n",
       "      <td>None</td>\n",
       "      <td>None</td>\n",
       "      <td>None</td>\n",
       "      <td>None</td>\n",
       "      <td>None</td>\n",
       "      <td>None</td>\n",
       "      <td>...</td>\n",
       "      <td>None</td>\n",
       "      <td>None</td>\n",
       "      <td>None</td>\n",
       "      <td>None</td>\n",
       "      <td>None</td>\n",
       "      <td>None</td>\n",
       "      <td>None</td>\n",
       "      <td>None</td>\n",
       "      <td>None</td>\n",
       "      <td>None</td>\n",
       "    </tr>\n",
       "    <tr>\n",
       "      <th>fil-nik09</th>\n",
       "      <td>5</td>\n",
       "      <td>None</td>\n",
       "      <td>None</td>\n",
       "      <td>None</td>\n",
       "      <td>None</td>\n",
       "      <td>None</td>\n",
       "      <td>None</td>\n",
       "      <td>None</td>\n",
       "      <td>None</td>\n",
       "      <td>None</td>\n",
       "      <td>...</td>\n",
       "      <td>None</td>\n",
       "      <td>None</td>\n",
       "      <td>None</td>\n",
       "      <td>None</td>\n",
       "      <td>None</td>\n",
       "      <td>None</td>\n",
       "      <td>None</td>\n",
       "      <td>None</td>\n",
       "      <td>None</td>\n",
       "      <td>7</td>\n",
       "    </tr>\n",
       "    <tr>\n",
       "      <th>DVR_Brale</th>\n",
       "      <td>7</td>\n",
       "      <td>None</td>\n",
       "      <td>10</td>\n",
       "      <td>9</td>\n",
       "      <td>None</td>\n",
       "      <td>None</td>\n",
       "      <td>None</td>\n",
       "      <td>None</td>\n",
       "      <td>None</td>\n",
       "      <td>None</td>\n",
       "      <td>...</td>\n",
       "      <td>None</td>\n",
       "      <td>None</td>\n",
       "      <td>None</td>\n",
       "      <td>None</td>\n",
       "      <td>None</td>\n",
       "      <td>None</td>\n",
       "      <td>None</td>\n",
       "      <td>None</td>\n",
       "      <td>None</td>\n",
       "      <td>None</td>\n",
       "    </tr>\n",
       "    <tr>\n",
       "      <th>...</th>\n",
       "      <td>...</td>\n",
       "      <td>...</td>\n",
       "      <td>...</td>\n",
       "      <td>...</td>\n",
       "      <td>...</td>\n",
       "      <td>...</td>\n",
       "      <td>...</td>\n",
       "      <td>...</td>\n",
       "      <td>...</td>\n",
       "      <td>...</td>\n",
       "      <td>...</td>\n",
       "      <td>...</td>\n",
       "      <td>...</td>\n",
       "      <td>...</td>\n",
       "      <td>...</td>\n",
       "      <td>...</td>\n",
       "      <td>...</td>\n",
       "      <td>...</td>\n",
       "      <td>...</td>\n",
       "      <td>...</td>\n",
       "      <td>...</td>\n",
       "    </tr>\n",
       "    <tr>\n",
       "      <th>kristian_tolima</th>\n",
       "      <td>None</td>\n",
       "      <td>None</td>\n",
       "      <td>None</td>\n",
       "      <td>None</td>\n",
       "      <td>None</td>\n",
       "      <td>None</td>\n",
       "      <td>None</td>\n",
       "      <td>None</td>\n",
       "      <td>None</td>\n",
       "      <td>None</td>\n",
       "      <td>...</td>\n",
       "      <td>None</td>\n",
       "      <td>None</td>\n",
       "      <td>None</td>\n",
       "      <td>None</td>\n",
       "      <td>None</td>\n",
       "      <td>None</td>\n",
       "      <td>None</td>\n",
       "      <td>None</td>\n",
       "      <td>None</td>\n",
       "      <td>7</td>\n",
       "    </tr>\n",
       "    <tr>\n",
       "      <th>ssmp_btc</th>\n",
       "      <td>None</td>\n",
       "      <td>None</td>\n",
       "      <td>None</td>\n",
       "      <td>None</td>\n",
       "      <td>None</td>\n",
       "      <td>None</td>\n",
       "      <td>None</td>\n",
       "      <td>None</td>\n",
       "      <td>None</td>\n",
       "      <td>None</td>\n",
       "      <td>...</td>\n",
       "      <td>None</td>\n",
       "      <td>None</td>\n",
       "      <td>None</td>\n",
       "      <td>None</td>\n",
       "      <td>None</td>\n",
       "      <td>None</td>\n",
       "      <td>None</td>\n",
       "      <td>None</td>\n",
       "      <td>None</td>\n",
       "      <td>8</td>\n",
       "    </tr>\n",
       "    <tr>\n",
       "      <th>dkemathas</th>\n",
       "      <td>None</td>\n",
       "      <td>None</td>\n",
       "      <td>None</td>\n",
       "      <td>None</td>\n",
       "      <td>None</td>\n",
       "      <td>None</td>\n",
       "      <td>None</td>\n",
       "      <td>None</td>\n",
       "      <td>None</td>\n",
       "      <td>None</td>\n",
       "      <td>...</td>\n",
       "      <td>None</td>\n",
       "      <td>None</td>\n",
       "      <td>None</td>\n",
       "      <td>None</td>\n",
       "      <td>None</td>\n",
       "      <td>None</td>\n",
       "      <td>None</td>\n",
       "      <td>None</td>\n",
       "      <td>None</td>\n",
       "      <td>7</td>\n",
       "    </tr>\n",
       "    <tr>\n",
       "      <th>dimitri-dhaese</th>\n",
       "      <td>None</td>\n",
       "      <td>None</td>\n",
       "      <td>None</td>\n",
       "      <td>None</td>\n",
       "      <td>None</td>\n",
       "      <td>None</td>\n",
       "      <td>None</td>\n",
       "      <td>None</td>\n",
       "      <td>None</td>\n",
       "      <td>None</td>\n",
       "      <td>...</td>\n",
       "      <td>None</td>\n",
       "      <td>None</td>\n",
       "      <td>None</td>\n",
       "      <td>None</td>\n",
       "      <td>None</td>\n",
       "      <td>None</td>\n",
       "      <td>None</td>\n",
       "      <td>None</td>\n",
       "      <td>None</td>\n",
       "      <td>7</td>\n",
       "    </tr>\n",
       "    <tr>\n",
       "      <th>nama-saya-aggi</th>\n",
       "      <td>None</td>\n",
       "      <td>None</td>\n",
       "      <td>None</td>\n",
       "      <td>None</td>\n",
       "      <td>None</td>\n",
       "      <td>None</td>\n",
       "      <td>None</td>\n",
       "      <td>None</td>\n",
       "      <td>None</td>\n",
       "      <td>None</td>\n",
       "      <td>...</td>\n",
       "      <td>None</td>\n",
       "      <td>None</td>\n",
       "      <td>None</td>\n",
       "      <td>None</td>\n",
       "      <td>None</td>\n",
       "      <td>None</td>\n",
       "      <td>None</td>\n",
       "      <td>None</td>\n",
       "      <td>None</td>\n",
       "      <td>6</td>\n",
       "    </tr>\n",
       "  </tbody>\n",
       "</table>\n",
       "<p>68975 rows × 99 columns</p>\n",
       "</div>"
      ],
      "text/plain": [
       "                10 Cloverfield Lane 10 Things I Hate About You 12 Angry Men  \\\n",
       "user                                                                          \n",
       "Imme-van-Gorp                     7                       None         None   \n",
       "sonofocelot-1                     5                       None         None   \n",
       "mhodaee                           5                       None         None   \n",
       "fil-nik09                         5                       None         None   \n",
       "DVR_Brale                         7                       None           10   \n",
       "...                             ...                        ...          ...   \n",
       "kristian_tolima                None                       None         None   \n",
       "ssmp_btc                       None                       None         None   \n",
       "dkemathas                      None                       None         None   \n",
       "dimitri-dhaese                 None                       None         None   \n",
       "nama-saya-aggi                 None                       None         None   \n",
       "\n",
       "                12 Monkeys 12 Strong 12 Years a Slave 127 Hours 13 Hours  \\\n",
       "user                                                                       \n",
       "Imme-van-Gorp         None      None             None      None     None   \n",
       "sonofocelot-1         None      None             None      None     None   \n",
       "mhodaee               None      None             None      None     None   \n",
       "fil-nik09             None      None             None      None     None   \n",
       "DVR_Brale                9      None             None      None     None   \n",
       "...                    ...       ...              ...       ...      ...   \n",
       "kristian_tolima       None      None             None      None     None   \n",
       "ssmp_btc              None      None             None      None     None   \n",
       "dkemathas             None      None             None      None     None   \n",
       "dimitri-dhaese        None      None             None      None     None   \n",
       "nama-saya-aggi        None      None             None      None     None   \n",
       "\n",
       "                 1408  1917  ... Back to the Future  \\\n",
       "user                         ...                      \n",
       "Imme-van-Gorp    None  None  ...               None   \n",
       "sonofocelot-1    None  None  ...               None   \n",
       "mhodaee          None  None  ...               None   \n",
       "fil-nik09        None  None  ...               None   \n",
       "DVR_Brale        None  None  ...               None   \n",
       "...               ...   ...  ...                ...   \n",
       "kristian_tolima  None  None  ...               None   \n",
       "ssmp_btc         None  None  ...               None   \n",
       "dkemathas        None  None  ...               None   \n",
       "dimitri-dhaese   None  None  ...               None   \n",
       "nama-saya-aggi   None  None  ...               None   \n",
       "\n",
       "                Back to the Future Part II Back to the Future Part III  \\\n",
       "user                                                                     \n",
       "Imme-van-Gorp                         None                        None   \n",
       "sonofocelot-1                         None                        None   \n",
       "mhodaee                               None                        None   \n",
       "fil-nik09                             None                        None   \n",
       "DVR_Brale                             None                        None   \n",
       "...                                    ...                         ...   \n",
       "kristian_tolima                       None                        None   \n",
       "ssmp_btc                              None                        None   \n",
       "dkemathas                             None                        None   \n",
       "dimitri-dhaese                        None                        None   \n",
       "nama-saya-aggi                        None                        None   \n",
       "\n",
       "                Bad Teacher Balls of Fury Barry Lyndon BASEketball  \\\n",
       "user                                                                 \n",
       "Imme-van-Gorp          None          None         None        None   \n",
       "sonofocelot-1          None          None         None        None   \n",
       "mhodaee                None          None         None        None   \n",
       "fil-nik09              None          None         None        None   \n",
       "DVR_Brale              None          None         None        None   \n",
       "...                     ...           ...          ...         ...   \n",
       "kristian_tolima        None          None         None        None   \n",
       "ssmp_btc               None          None         None        None   \n",
       "dkemathas              None          None         None        None   \n",
       "dimitri-dhaese         None          None         None        None   \n",
       "nama-saya-aggi         None          None         None        None   \n",
       "\n",
       "                Batman Begins Batman Returns  \\\n",
       "user                                           \n",
       "Imme-van-Gorp            None           None   \n",
       "sonofocelot-1            None           None   \n",
       "mhodaee                  None           None   \n",
       "fil-nik09                None           None   \n",
       "DVR_Brale                None           None   \n",
       "...                       ...            ...   \n",
       "kristian_tolima          None           None   \n",
       "ssmp_btc                 None           None   \n",
       "dkemathas                None           None   \n",
       "dimitri-dhaese           None           None   \n",
       "nama-saya-aggi           None           None   \n",
       "\n",
       "                Batman v Superman_ Dawn of Justice  \n",
       "user                                                \n",
       "Imme-van-Gorp                                 None  \n",
       "sonofocelot-1                                 None  \n",
       "mhodaee                                       None  \n",
       "fil-nik09                                        7  \n",
       "DVR_Brale                                     None  \n",
       "...                                            ...  \n",
       "kristian_tolima                                  7  \n",
       "ssmp_btc                                         8  \n",
       "dkemathas                                        7  \n",
       "dimitri-dhaese                                   7  \n",
       "nama-saya-aggi                                   6  \n",
       "\n",
       "[68975 rows x 99 columns]"
      ]
     },
     "execution_count": 115,
     "metadata": {},
     "output_type": "execute_result"
    }
   ],
   "source": [
    "%%time\n",
    "\n",
    "# Creating User Movie Matrix\n",
    "user_movie = pd.DataFrame(df.username.unique(), columns = ['user']).set_index('user')\n",
    "# Create Columns\n",
    "for movie in df.movie.unique():\n",
    "    user_movie[movie] = None\n",
    "# Mapping the ratings\n",
    "for i,user in enumerate(user_movie.index):\n",
    "    this_user_ratings = df[df.username == user]\n",
    "    for row in range(this_user_ratings.shape[0]):\n",
    "        movie_name = this_user_ratings.movie.iloc[row]\n",
    "        rating = this_user_ratings.rating.iloc[row]\n",
    "        #user_movie.loc[user][] =  \n",
    "        user_movie[movie_name][i] = rating\n",
    "user_movie"
   ]
  },
  {
   "cell_type": "markdown",
   "id": "c1d001e7",
   "metadata": {},
   "source": [
    "## recommend function"
   ]
  },
  {
   "cell_type": "code",
   "execution_count": 23,
   "id": "4f174c79",
   "metadata": {},
   "outputs": [],
   "source": [
    "# defining recommender function\n",
    "def recommend(target, sim_users, user_mov):\n",
    "    user_movie = user_mov.replace(np.nan,0)\n",
    "    # get similar users ratings for all movies / subsetting similar users from user_movie matrix\n",
    "    similar_users = user_movie[user_movie.index.isin(sim_users)]\n",
    "    #print(similar_users)\n",
    "    # get average review given by these similar users to all movies\n",
    "    similar_users = similar_users.mean(axis=0)\n",
    "    #print(similar_users)\n",
    "    similar_users_df = pd.DataFrame(similar_users, columns=['mean'])\n",
    "    user_df = user_movie[user_movie.index == target]\n",
    "    user_df_transposed = user_df.transpose()\n",
    "    user_df_transposed.columns = ['rating']\n",
    "    # select movies which are not watched by the user\n",
    "    user_df_transposed = user_df_transposed[user_df_transposed['rating']==0]\n",
    "    movies_unseen = user_df_transposed.index.tolist()\n",
    "    # get average rating from similar users of the unseen movies by target user\n",
    "    similar_users_df_filtered = similar_users_df[similar_users_df.index.isin(movies_unseen)]\n",
    "    similar_users_df_ordered = similar_users_df_filtered.sort_values(by=['mean'], ascending=False)\n",
    "    #print(similar_users_df_ordered)\n",
    "    return similar_users_df_ordered[similar_users_df_ordered['mean'] > 0].index.tolist()[:10]\n",
    "    "
   ]
  },
  {
   "cell_type": "code",
   "execution_count": null,
   "id": "31fcc755",
   "metadata": {},
   "outputs": [],
   "source": []
  },
  {
   "cell_type": "code",
   "execution_count": 24,
   "id": "08225413",
   "metadata": {},
   "outputs": [],
   "source": [
    "# Use cases\n",
    "# 'nishitsingh' -> watched Avengers_ Endgame\n",
    "# 'doeszdude' -> watched Avengers_ Endgame\n",
    "# 'dude_14192' -> watched Avengers_ Endgame\n",
    "# 'Sparky-string' -> watched Avengers_ Endgame\n",
    "# 'maxshelley' -> watched Angust Rush\n",
    "# 'nadiamica' -> watched Batman vs Superman"
   ]
  },
  {
   "cell_type": "markdown",
   "id": "5123bc5d",
   "metadata": {},
   "source": [
    "## random recommender function"
   ]
  },
  {
   "cell_type": "code",
   "execution_count": 152,
   "id": "f66f0068",
   "metadata": {},
   "outputs": [],
   "source": [
    "def random_rec():\n",
    "    \"\"\"\n",
    "    random recommender to check recommendations\n",
    "    \"\"\"\n",
    "    all_users = df.username.unique().tolist()\n",
    "    tgt_usr = random.choice(all_users)\n",
    "    mov_of_usr = df.movie[df.username == tgt_usr].tolist()\n",
    "    tgt_mov = random.choice(mov_of_usr)\n",
    "    print('Movies watched by [',tgt_usr,']:\\n**',df.movie[df.username == tgt_usr].tolist())\n",
    "    print('input user  =',tgt_usr)\n",
    "    print('input movie =',tgt_mov)\n",
    "    print(\"\\nRecommendations\")\n",
    "    return recommend(tgt_usr, similar_users(tgt_usr, tgt_mov), user_movie)"
   ]
  },
  {
   "cell_type": "code",
   "execution_count": 164,
   "id": "ce50ff01",
   "metadata": {
    "scrolled": false
   },
   "outputs": [
    {
     "name": "stdout",
     "output_type": "stream",
     "text": [
      "Movies watched by [ troubledyouth66 ]:\n",
      "** ['2012', 'Avatar']\n",
      "input user  = troubledyouth66\n",
      "input movie = Avatar\n",
      "\n",
      "Recommendations\n"
     ]
    },
    {
     "data": {
      "text/plain": [
       "['2001_ A Space Odyssey',\n",
       " 'Arrival',\n",
       " '28 Days Later...',\n",
       " 'Avengers_ Age of Ultron',\n",
       " 'Alien_ Covenant']"
      ]
     },
     "execution_count": 164,
     "metadata": {},
     "output_type": "execute_result"
    }
   ],
   "source": [
    "random_rec()"
   ]
  },
  {
   "cell_type": "code",
   "execution_count": null,
   "id": "9c6796ae",
   "metadata": {},
   "outputs": [],
   "source": []
  },
  {
   "cell_type": "code",
   "execution_count": null,
   "id": "4fc2739f",
   "metadata": {},
   "outputs": [],
   "source": [
    "# using second similar users function."
   ]
  },
  {
   "cell_type": "code",
   "execution_count": 150,
   "id": "19c652f2",
   "metadata": {},
   "outputs": [],
   "source": [
    "def random_rec2():\n",
    "    \"\"\"\n",
    "    random recommender which uses similar_users2 function\n",
    "    \"\"\"\n",
    "    all_users = df.username.unique().tolist()\n",
    "    tgt_usr = random.choice(all_users)\n",
    "    mov_of_usr = df.movie[df.username == tgt_usr].tolist()\n",
    "    tgt_mov = random.choice(mov_of_usr)\n",
    "    print('Movies watched by [',tgt_usr,']:\\n**',df.movie[df.username == tgt_usr].tolist())\n",
    "    print('input user  =',tgt_usr)\n",
    "    print('input movie =',tgt_mov)\n",
    "    print(\"\\nRecommendations\")\n",
    "    return recommend(tgt_usr, similar_users2(tgt_usr, tgt_mov), user_movie)"
   ]
  },
  {
   "cell_type": "code",
   "execution_count": 174,
   "id": "c62eb770",
   "metadata": {},
   "outputs": [
    {
     "name": "stdout",
     "output_type": "stream",
     "text": [
      "Movies watched by [ kirbylee70-599-526179 ]:\n",
      "** ['12 Monkeys', 'Angels & Demons', 'Aquaman', 'Avengers_ Endgame', 'Avengers_ Infinity War']\n",
      "input user  = kirbylee70-599-526179\n",
      "input movie = Aquaman\n",
      "\n",
      "Recommendations\n"
     ]
    },
    {
     "data": {
      "text/plain": [
       "['Avengers_ Age of Ultron',\n",
       " 'Arrival',\n",
       " 'A Star Is Born',\n",
       " 'Ant-Man',\n",
       " '12 Years a Slave',\n",
       " '1917',\n",
       " 'Batman v Superman_ Dawn of Justice',\n",
       " '13 Hours',\n",
       " 'American Made',\n",
       " 'American Sniper']"
      ]
     },
     "execution_count": 174,
     "metadata": {},
     "output_type": "execute_result"
    }
   ],
   "source": [
    "random_rec2()"
   ]
  },
  {
   "cell_type": "code",
   "execution_count": null,
   "id": "1cc3405f",
   "metadata": {},
   "outputs": [],
   "source": []
  }
 ],
 "metadata": {
  "kernelspec": {
   "display_name": "Python 3",
   "language": "python",
   "name": "python3"
  },
  "language_info": {
   "codemirror_mode": {
    "name": "ipython",
    "version": 3
   },
   "file_extension": ".py",
   "mimetype": "text/x-python",
   "name": "python",
   "nbconvert_exporter": "python",
   "pygments_lexer": "ipython3",
   "version": "3.8.8"
  }
 },
 "nbformat": 4,
 "nbformat_minor": 5
}
